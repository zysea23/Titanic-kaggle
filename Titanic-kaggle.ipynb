{
 "cells": [
  {
   "cell_type": "markdown",
   "metadata": {},
   "source": [
    "## Learning and finding\n",
    "\n",
    "### Initial Exploring\n",
    "- The first time I approached this problem, I performed some normal data cleaning and feature engineering and fitted 3 models(logistic regression, random forest, XGBoost), achieving 82% validation accuracy and 77% test accuracy.\n",
    "- The key is focusing on handling missing data, building a streamlined workflow, and analyzing and processing various features.\n",
    "\n",
    "### General findings\n",
    "- **Interpretability VS Accuracy:** While improving prediction accuracy is useful, for a historically significant event like the Titanic, interpretability takes precedence over accuracy.\n",
    "- **Workflow:** This beginner-level competition is designed to help us develop a foundational understanding and workflow for handling datasets, building upon the balance of interpretation and predictive modeling.\n",
    "- **Testset:** Data cleaning and feature engineering should consider both the training and test sets. Use a **combine list of `train_df` and `test_df`** could help and reduce complexity.\n",
    "- **Quick Validation:** New-created features could be quickly validated for their predictive utility.\n",
    "- **Categorical Features:** For tree-based models, using integers (e.g., 1, 2, 3) for non-ordinal categorical features often does not cause significant issues(like introducing implict ordering). However, for most models, one-hot encoding could be better(just pay attention to avoiding feature sparsity and losing implicit relationships).\n",
    "\n",
    "### Other\n",
    "- The notebook [Titanic Data Science Solutions](https://www.kaggle.com/code/startupsci/titanic-data-science-solutions/) provided valuable insights into data science workflows and in-depth analysis of each predictor. I learned a lot from this notebook."
   ]
  },
  {
   "cell_type": "markdown",
   "metadata": {},
   "source": [
    "## 1. Data Loading"
   ]
  },
  {
   "cell_type": "code",
   "execution_count": 53,
   "metadata": {
    "execution": {
     "iopub.execute_input": "2024-11-25T01:14:41.444767Z",
     "iopub.status.busy": "2024-11-25T01:14:41.444414Z",
     "iopub.status.idle": "2024-11-25T01:14:41.448967Z",
     "shell.execute_reply": "2024-11-25T01:14:41.448043Z",
     "shell.execute_reply.started": "2024-11-25T01:14:41.444737Z"
    },
    "trusted": true
   },
   "outputs": [],
   "source": [
    "# import pandas as pd\n",
    "# # This is a good practice to reduce feature processing complexity.\n",
    "# train_df = pd.read_csv('/kaggle/input/titanic/train.csv')\n",
    "# test_df = pd.read_csv('/kaggle/input/titanic/test.csv')\n",
    "# combine = [train_df, test_df]\n",
    "\n",
    "# train_df.head()"
   ]
  },
  {
   "cell_type": "code",
   "execution_count": 54,
   "metadata": {
    "execution": {
     "iopub.execute_input": "2024-11-25T01:14:41.452597Z",
     "iopub.status.busy": "2024-11-25T01:14:41.452269Z",
     "iopub.status.idle": "2024-11-25T01:14:41.483085Z",
     "shell.execute_reply": "2024-11-25T01:14:41.482225Z",
     "shell.execute_reply.started": "2024-11-25T01:14:41.452571Z"
    },
    "trusted": true
   },
   "outputs": [
    {
     "name": "stdout",
     "output_type": "stream",
     "text": [
      "<class 'pandas.core.frame.DataFrame'>\n",
      "RangeIndex: 891 entries, 0 to 890\n",
      "Data columns (total 12 columns):\n",
      " #   Column       Non-Null Count  Dtype  \n",
      "---  ------       --------------  -----  \n",
      " 0   PassengerId  891 non-null    int64  \n",
      " 1   Survived     891 non-null    int64  \n",
      " 2   Pclass       891 non-null    int64  \n",
      " 3   Name         891 non-null    object \n",
      " 4   Sex          891 non-null    object \n",
      " 5   Age          714 non-null    float64\n",
      " 6   SibSp        891 non-null    int64  \n",
      " 7   Parch        891 non-null    int64  \n",
      " 8   Ticket       891 non-null    object \n",
      " 9   Fare         891 non-null    float64\n",
      " 10  Cabin        204 non-null    object \n",
      " 11  Embarked     889 non-null    object \n",
      "dtypes: float64(2), int64(5), object(5)\n",
      "memory usage: 83.7+ KB\n",
      "None\n",
      "Index(['PassengerId', 'Survived', 'Pclass', 'Name', 'Sex', 'Age', 'SibSp',\n",
      "       'Parch', 'Ticket', 'Fare', 'Cabin', 'Embarked'],\n",
      "      dtype='object')\n"
     ]
    },
    {
     "data": {
      "text/html": [
       "<div>\n",
       "<style scoped>\n",
       "    .dataframe tbody tr th:only-of-type {\n",
       "        vertical-align: middle;\n",
       "    }\n",
       "\n",
       "    .dataframe tbody tr th {\n",
       "        vertical-align: top;\n",
       "    }\n",
       "\n",
       "    .dataframe thead th {\n",
       "        text-align: right;\n",
       "    }\n",
       "</style>\n",
       "<table border=\"1\" class=\"dataframe\">\n",
       "  <thead>\n",
       "    <tr style=\"text-align: right;\">\n",
       "      <th></th>\n",
       "      <th>PassengerId</th>\n",
       "      <th>Survived</th>\n",
       "      <th>Pclass</th>\n",
       "      <th>Name</th>\n",
       "      <th>Sex</th>\n",
       "      <th>Age</th>\n",
       "      <th>SibSp</th>\n",
       "      <th>Parch</th>\n",
       "      <th>Ticket</th>\n",
       "      <th>Fare</th>\n",
       "      <th>Cabin</th>\n",
       "      <th>Embarked</th>\n",
       "    </tr>\n",
       "  </thead>\n",
       "  <tbody>\n",
       "    <tr>\n",
       "      <th>0</th>\n",
       "      <td>1</td>\n",
       "      <td>0</td>\n",
       "      <td>3</td>\n",
       "      <td>Braund, Mr. Owen Harris</td>\n",
       "      <td>male</td>\n",
       "      <td>22.0</td>\n",
       "      <td>1</td>\n",
       "      <td>0</td>\n",
       "      <td>A/5 21171</td>\n",
       "      <td>7.2500</td>\n",
       "      <td>NaN</td>\n",
       "      <td>S</td>\n",
       "    </tr>\n",
       "    <tr>\n",
       "      <th>1</th>\n",
       "      <td>2</td>\n",
       "      <td>1</td>\n",
       "      <td>1</td>\n",
       "      <td>Cumings, Mrs. John Bradley (Florence Briggs Th...</td>\n",
       "      <td>female</td>\n",
       "      <td>38.0</td>\n",
       "      <td>1</td>\n",
       "      <td>0</td>\n",
       "      <td>PC 17599</td>\n",
       "      <td>71.2833</td>\n",
       "      <td>C85</td>\n",
       "      <td>C</td>\n",
       "    </tr>\n",
       "    <tr>\n",
       "      <th>2</th>\n",
       "      <td>3</td>\n",
       "      <td>1</td>\n",
       "      <td>3</td>\n",
       "      <td>Heikkinen, Miss. Laina</td>\n",
       "      <td>female</td>\n",
       "      <td>26.0</td>\n",
       "      <td>0</td>\n",
       "      <td>0</td>\n",
       "      <td>STON/O2. 3101282</td>\n",
       "      <td>7.9250</td>\n",
       "      <td>NaN</td>\n",
       "      <td>S</td>\n",
       "    </tr>\n",
       "    <tr>\n",
       "      <th>3</th>\n",
       "      <td>4</td>\n",
       "      <td>1</td>\n",
       "      <td>1</td>\n",
       "      <td>Futrelle, Mrs. Jacques Heath (Lily May Peel)</td>\n",
       "      <td>female</td>\n",
       "      <td>35.0</td>\n",
       "      <td>1</td>\n",
       "      <td>0</td>\n",
       "      <td>113803</td>\n",
       "      <td>53.1000</td>\n",
       "      <td>C123</td>\n",
       "      <td>S</td>\n",
       "    </tr>\n",
       "    <tr>\n",
       "      <th>4</th>\n",
       "      <td>5</td>\n",
       "      <td>0</td>\n",
       "      <td>3</td>\n",
       "      <td>Allen, Mr. William Henry</td>\n",
       "      <td>male</td>\n",
       "      <td>35.0</td>\n",
       "      <td>0</td>\n",
       "      <td>0</td>\n",
       "      <td>373450</td>\n",
       "      <td>8.0500</td>\n",
       "      <td>NaN</td>\n",
       "      <td>S</td>\n",
       "    </tr>\n",
       "  </tbody>\n",
       "</table>\n",
       "</div>"
      ],
      "text/plain": [
       "   PassengerId  Survived  Pclass  \\\n",
       "0            1         0       3   \n",
       "1            2         1       1   \n",
       "2            3         1       3   \n",
       "3            4         1       1   \n",
       "4            5         0       3   \n",
       "\n",
       "                                                Name     Sex   Age  SibSp  \\\n",
       "0                            Braund, Mr. Owen Harris    male  22.0      1   \n",
       "1  Cumings, Mrs. John Bradley (Florence Briggs Th...  female  38.0      1   \n",
       "2                             Heikkinen, Miss. Laina  female  26.0      0   \n",
       "3       Futrelle, Mrs. Jacques Heath (Lily May Peel)  female  35.0      1   \n",
       "4                           Allen, Mr. William Henry    male  35.0      0   \n",
       "\n",
       "   Parch            Ticket     Fare Cabin Embarked  \n",
       "0      0         A/5 21171   7.2500   NaN        S  \n",
       "1      0          PC 17599  71.2833   C85        C  \n",
       "2      0  STON/O2. 3101282   7.9250   NaN        S  \n",
       "3      0            113803  53.1000  C123        S  \n",
       "4      0            373450   8.0500   NaN        S  "
      ]
     },
     "execution_count": 54,
     "metadata": {},
     "output_type": "execute_result"
    }
   ],
   "source": [
    "# read files\n",
    "import pandas as pd\n",
    "import matplotlib.pyplot as plt\n",
    "import seaborn as sns\n",
    "\n",
    "# read the data\n",
    "# df = pd.read_csv('titanic/train.csv')\n",
    "\n",
    "# on kaggle\n",
    "df = pd.read_csv('/kaggle/input/titanic/train.csv')\n",
    "\n",
    "\n",
    "print(df.info())\n",
    "print(df.columns)\n",
    "\n",
    "df.head()"
   ]
  },
  {
   "cell_type": "markdown",
   "metadata": {},
   "source": [
    "## 2. Data Cleaning"
   ]
  },
  {
   "cell_type": "markdown",
   "metadata": {},
   "source": [
    "### 2.1 Missing Values"
   ]
  },
  {
   "cell_type": "code",
   "execution_count": 55,
   "metadata": {
    "execution": {
     "iopub.execute_input": "2024-11-25T01:14:41.484509Z",
     "iopub.status.busy": "2024-11-25T01:14:41.484227Z",
     "iopub.status.idle": "2024-11-25T01:14:41.489728Z",
     "shell.execute_reply": "2024-11-25T01:14:41.488856Z",
     "shell.execute_reply.started": "2024-11-25T01:14:41.484482Z"
    },
    "trusted": true
   },
   "outputs": [
    {
     "name": "stdout",
     "output_type": "stream",
     "text": [
      "PassengerId      0\n",
      "Survived         0\n",
      "Pclass           0\n",
      "Name             0\n",
      "Sex              0\n",
      "Age            177\n",
      "SibSp            0\n",
      "Parch            0\n",
      "Ticket           0\n",
      "Fare             0\n",
      "Cabin          687\n",
      "Embarked         2\n",
      "dtype: int64\n"
     ]
    }
   ],
   "source": [
    "# check missing values\n",
    "print(df.isnull().sum())"
   ]
  },
  {
   "cell_type": "markdown",
   "metadata": {},
   "source": [
    "### Age Imputation Methods\n",
    "\n",
    "1. **Impute with Mean or Median**  \n",
    "   - Simplest approach but may introduce noise.\n",
    "\n",
    "2. **Impute Based on Categories (e.g., `Pclass`, `Gender`, `SibSp`, `Parch`, and `Fare`) with Fallbacks**  \n",
    "   - Reduces noise by incorporating multiple grouping features for finer imputation.  \n",
    "   - If some groups lack samples, broader categories (e.g., `Pclass` and `Gender`) are used as a fallback, ensuring no missing values remain.  \n",
    "   - This method balances precision and simplicity.\n",
    "\n",
    "3. **Use a Regression Model to Predict Missing Ages**  \n",
    "   - Most accurate method but significantly more complex and computationally intensive.  \n",
    "   - Requires consistent preprocessing across training and test sets.\n",
    "\n",
    "---\n",
    "\n",
    "### Selected Method\n",
    "I preferred the third method for its accuracy, but due to its complexity, I opted for the second method as a simpler alternative."
   ]
  },
  {
   "cell_type": "code",
   "execution_count": 56,
   "metadata": {
    "execution": {
     "iopub.execute_input": "2024-11-25T01:14:41.491522Z",
     "iopub.status.busy": "2024-11-25T01:14:41.491171Z",
     "iopub.status.idle": "2024-11-25T01:14:41.502218Z",
     "shell.execute_reply": "2024-11-25T01:14:41.501582Z",
     "shell.execute_reply.started": "2024-11-25T01:14:41.491486Z"
    },
    "trusted": true
   },
   "outputs": [],
   "source": [
    "# Fill missing 'Age' values in the training set\n",
    "df['Age'] = df['Age'].fillna(\n",
    "    df.groupby(['Pclass', 'Sex',  \"SibSp\", \"Parch\", \"Fare\"])['Age'].transform('mean')\n",
    ")\n",
    "df['Age'] = df['Age'].fillna(\n",
    "    df.groupby(['Pclass', 'Sex'])['Age'].transform('mean')\n",
    ")\n",
    "global_mean_age = df['Age'].mean()\n",
    "df['Age'] = df['Age'].fillna(global_mean_age)"
   ]
  },
  {
   "cell_type": "code",
   "execution_count": 57,
   "metadata": {
    "execution": {
     "iopub.execute_input": "2024-11-25T01:14:41.504247Z",
     "iopub.status.busy": "2024-11-25T01:14:41.503683Z",
     "iopub.status.idle": "2024-11-25T01:14:41.511776Z",
     "shell.execute_reply": "2024-11-25T01:14:41.511063Z",
     "shell.execute_reply.started": "2024-11-25T01:14:41.504199Z"
    },
    "trusted": true
   },
   "outputs": [],
   "source": [
    "# # check age distribution\n",
    "# sns.histplot(df[\"Age\"])\n",
    "# plt.show()"
   ]
  },
  {
   "cell_type": "markdown",
   "metadata": {},
   "source": [
    "- **Embarked**: Impute with the mode, as it has minimal missing data (2 in training and a few in the test set) and low predictive importance.\n",
    "- **Cabin**: Just impute the missing data with 'Unknown', as we may drop this column later."
   ]
  },
  {
   "cell_type": "code",
   "execution_count": 58,
   "metadata": {
    "execution": {
     "iopub.execute_input": "2024-11-25T01:14:41.517074Z",
     "iopub.status.busy": "2024-11-25T01:14:41.516609Z",
     "iopub.status.idle": "2024-11-25T01:14:41.524382Z",
     "shell.execute_reply": "2024-11-25T01:14:41.523379Z",
     "shell.execute_reply.started": "2024-11-25T01:14:41.517049Z"
    },
    "trusted": true
   },
   "outputs": [],
   "source": [
    "# fill the missing values in the Embarked column with the mode\n",
    "df['Embarked'] = df['Embarked'].fillna(df['Embarked'].mode()[0])\n",
    "\n",
    "# fill the missing values in the Cabin column with 'Unknown'\n",
    "df['Cabin'] = df['Cabin'].fillna('Unknown')"
   ]
  },
  {
   "cell_type": "code",
   "execution_count": 59,
   "metadata": {
    "execution": {
     "iopub.execute_input": "2024-11-25T01:14:41.530765Z",
     "iopub.status.busy": "2024-11-25T01:14:41.529987Z",
     "iopub.status.idle": "2024-11-25T01:14:41.539226Z",
     "shell.execute_reply": "2024-11-25T01:14:41.538221Z",
     "shell.execute_reply.started": "2024-11-25T01:14:41.530738Z"
    },
    "trusted": true
   },
   "outputs": [
    {
     "name": "stdout",
     "output_type": "stream",
     "text": [
      "PassengerId    0\n",
      "Survived       0\n",
      "Pclass         0\n",
      "Name           0\n",
      "Sex            0\n",
      "Age            0\n",
      "SibSp          0\n",
      "Parch          0\n",
      "Ticket         0\n",
      "Fare           0\n",
      "Cabin          0\n",
      "Embarked       0\n",
      "dtype: int64\n"
     ]
    }
   ],
   "source": [
    "# check missing values again\n",
    "print(df.isnull().sum())"
   ]
  },
  {
   "cell_type": "markdown",
   "metadata": {},
   "source": [
    "### 2.2 Outliers\n",
    "- Standard workflow. Not applicable for this dataset."
   ]
  },
  {
   "cell_type": "code",
   "execution_count": 60,
   "metadata": {
    "execution": {
     "iopub.execute_input": "2024-11-25T01:14:41.548648Z",
     "iopub.status.busy": "2024-11-25T01:14:41.548405Z",
     "iopub.status.idle": "2024-11-25T01:14:41.552152Z",
     "shell.execute_reply": "2024-11-25T01:14:41.551244Z",
     "shell.execute_reply.started": "2024-11-25T01:14:41.548624Z"
    },
    "trusted": true
   },
   "outputs": [],
   "source": [
    "# # check outliers with boxplot\n",
    "# import matplotlib.pyplot as plt\n",
    "# import seaborn as sns\n",
    "\n",
    "# sns.boxplot(x=df['Fare'])\n",
    "# plt.show()"
   ]
  },
  {
   "cell_type": "markdown",
   "metadata": {},
   "source": [
    "### 2.3 Check Duplicates and Data Types\n",
    "- Standard workflow. Not applicable for this dataset."
   ]
  },
  {
   "cell_type": "markdown",
   "metadata": {},
   "source": [
    "## 3. Exploratory Data Analysis"
   ]
  },
  {
   "cell_type": "markdown",
   "metadata": {},
   "source": [
    "- For this part, I recommend reading the notebook [Titanic Data Science Solutions](https://www.kaggle.com/code/startupsci/titanic-data-science-solutions/). It provides an in-depth analysis of each predictor. Personally, I follow a simpler approach with basic steps."
   ]
  },
  {
   "cell_type": "code",
   "execution_count": 61,
   "metadata": {
    "execution": {
     "iopub.execute_input": "2024-11-25T01:14:41.571456Z",
     "iopub.status.busy": "2024-11-25T01:14:41.571051Z",
     "iopub.status.idle": "2024-11-25T01:14:41.595935Z",
     "shell.execute_reply": "2024-11-25T01:14:41.594669Z",
     "shell.execute_reply.started": "2024-11-25T01:14:41.571428Z"
    },
    "trusted": true
   },
   "outputs": [
    {
     "name": "stdout",
     "output_type": "stream",
     "text": [
      "       PassengerId    Survived      Pclass         Age       SibSp  \\\n",
      "count   891.000000  891.000000  891.000000  891.000000  891.000000   \n",
      "mean    446.000000    0.383838    2.308642   29.761046    0.523008   \n",
      "std     257.353842    0.486592    0.836071   13.487214    1.102743   \n",
      "min       1.000000    0.000000    1.000000    0.420000    0.000000   \n",
      "25%     223.500000    0.000000    2.000000   21.875344    0.000000   \n",
      "50%     446.000000    0.000000    3.000000   28.000000    0.000000   \n",
      "75%     668.500000    1.000000    3.000000   37.000000    1.000000   \n",
      "max     891.000000    1.000000    3.000000   80.000000    8.000000   \n",
      "\n",
      "            Parch        Fare  \n",
      "count  891.000000  891.000000  \n",
      "mean     0.381594   32.204208  \n",
      "std      0.806057   49.693429  \n",
      "min      0.000000    0.000000  \n",
      "25%      0.000000    7.910400  \n",
      "50%      0.000000   14.454200  \n",
      "75%      0.000000   31.000000  \n",
      "max      6.000000  512.329200  \n"
     ]
    }
   ],
   "source": [
    "print(df.describe())"
   ]
  },
  {
   "cell_type": "code",
   "execution_count": 62,
   "metadata": {
    "execution": {
     "iopub.execute_input": "2024-11-25T01:14:41.597785Z",
     "iopub.status.busy": "2024-11-25T01:14:41.597542Z",
     "iopub.status.idle": "2024-11-25T01:14:41.883177Z",
     "shell.execute_reply": "2024-11-25T01:14:41.882384Z",
     "shell.execute_reply.started": "2024-11-25T01:14:41.597761Z"
    },
    "trusted": true
   },
   "outputs": [
    {
     "data": {
      "image/png": "[encoded data removed]",
      "text/plain": [
       "<Figure size 800x800 with 2 Axes>"
      ]
     },
     "metadata": {},
     "output_type": "display_data"
    }
   ],
   "source": [
    "# plot the correlation matrix\n",
    "\n",
    "num_df = df.select_dtypes(include=['number'])\n",
    "\n",
    "plt.figure(figsize=(8, 8))\n",
    "sns.heatmap(num_df.corr(), annot=True, fmt='.2f', cmap='coolwarm')\n",
    "plt.show()"
   ]
  },
  {
   "cell_type": "code",
   "execution_count": 63,
   "metadata": {
    "execution": {
     "iopub.execute_input": "2024-11-25T01:14:41.885190Z",
     "iopub.status.busy": "2024-11-25T01:14:41.884841Z",
     "iopub.status.idle": "2024-11-25T01:14:41.889305Z",
     "shell.execute_reply": "2024-11-25T01:14:41.888370Z",
     "shell.execute_reply.started": "2024-11-25T01:14:41.885152Z"
    },
    "trusted": true
   },
   "outputs": [],
   "source": [
    "# # plot the pairplot\n",
    "# sns.pairplot(num_df)\n",
    "# plt.show()"
   ]
  },
  {
   "cell_type": "code",
   "execution_count": 64,
   "metadata": {
    "execution": {
     "iopub.execute_input": "2024-11-25T01:14:41.890487Z",
     "iopub.status.busy": "2024-11-25T01:14:41.890171Z",
     "iopub.status.idle": "2024-11-25T01:14:41.900312Z",
     "shell.execute_reply": "2024-11-25T01:14:41.899473Z",
     "shell.execute_reply.started": "2024-11-25T01:14:41.890460Z"
    },
    "trusted": true
   },
   "outputs": [],
   "source": [
    "# # plot pairplot of survived vs other features\n",
    "# sns.pairplot(num_df, hue='Survived')\n",
    "# plt.show()"
   ]
  },
  {
   "cell_type": "markdown",
   "metadata": {},
   "source": [
    "## 4.Feature Engineering"
   ]
  },
  {
   "cell_type": "markdown",
   "metadata": {},
   "source": [
    "### 4.1 Feature Construction"
   ]
  },
  {
   "cell_type": "code",
   "execution_count": 65,
   "metadata": {
    "execution": {
     "iopub.execute_input": "2024-11-25T01:14:41.902253Z",
     "iopub.status.busy": "2024-11-25T01:14:41.901953Z",
     "iopub.status.idle": "2024-11-25T01:14:41.923492Z",
     "shell.execute_reply": "2024-11-25T01:14:41.922630Z",
     "shell.execute_reply.started": "2024-11-25T01:14:41.902220Z"
    },
    "trusted": true
   },
   "outputs": [
    {
     "data": {
      "text/html": [
       "<div>\n",
       "<style scoped>\n",
       "    .dataframe tbody tr th:only-of-type {\n",
       "        vertical-align: middle;\n",
       "    }\n",
       "\n",
       "    .dataframe tbody tr th {\n",
       "        vertical-align: top;\n",
       "    }\n",
       "\n",
       "    .dataframe thead th {\n",
       "        text-align: right;\n",
       "    }\n",
       "</style>\n",
       "<table border=\"1\" class=\"dataframe\">\n",
       "  <thead>\n",
       "    <tr style=\"text-align: right;\">\n",
       "      <th>Sex</th>\n",
       "      <th>female</th>\n",
       "      <th>male</th>\n",
       "    </tr>\n",
       "    <tr>\n",
       "      <th>Title</th>\n",
       "      <th></th>\n",
       "      <th></th>\n",
       "    </tr>\n",
       "  </thead>\n",
       "  <tbody>\n",
       "    <tr>\n",
       "      <th>Capt</th>\n",
       "      <td>0</td>\n",
       "      <td>1</td>\n",
       "    </tr>\n",
       "    <tr>\n",
       "      <th>Col</th>\n",
       "      <td>0</td>\n",
       "      <td>2</td>\n",
       "    </tr>\n",
       "    <tr>\n",
       "      <th>Countess</th>\n",
       "      <td>1</td>\n",
       "      <td>0</td>\n",
       "    </tr>\n",
       "    <tr>\n",
       "      <th>Don</th>\n",
       "      <td>0</td>\n",
       "      <td>1</td>\n",
       "    </tr>\n",
       "    <tr>\n",
       "      <th>Dr</th>\n",
       "      <td>1</td>\n",
       "      <td>6</td>\n",
       "    </tr>\n",
       "    <tr>\n",
       "      <th>Jonkheer</th>\n",
       "      <td>0</td>\n",
       "      <td>1</td>\n",
       "    </tr>\n",
       "    <tr>\n",
       "      <th>Lady</th>\n",
       "      <td>1</td>\n",
       "      <td>0</td>\n",
       "    </tr>\n",
       "    <tr>\n",
       "      <th>Major</th>\n",
       "      <td>0</td>\n",
       "      <td>2</td>\n",
       "    </tr>\n",
       "    <tr>\n",
       "      <th>Master</th>\n",
       "      <td>0</td>\n",
       "      <td>40</td>\n",
       "    </tr>\n",
       "    <tr>\n",
       "      <th>Miss</th>\n",
       "      <td>182</td>\n",
       "      <td>0</td>\n",
       "    </tr>\n",
       "    <tr>\n",
       "      <th>Mlle</th>\n",
       "      <td>2</td>\n",
       "      <td>0</td>\n",
       "    </tr>\n",
       "    <tr>\n",
       "      <th>Mme</th>\n",
       "      <td>1</td>\n",
       "      <td>0</td>\n",
       "    </tr>\n",
       "    <tr>\n",
       "      <th>Mr</th>\n",
       "      <td>0</td>\n",
       "      <td>517</td>\n",
       "    </tr>\n",
       "    <tr>\n",
       "      <th>Mrs</th>\n",
       "      <td>125</td>\n",
       "      <td>0</td>\n",
       "    </tr>\n",
       "    <tr>\n",
       "      <th>Ms</th>\n",
       "      <td>1</td>\n",
       "      <td>0</td>\n",
       "    </tr>\n",
       "    <tr>\n",
       "      <th>Rev</th>\n",
       "      <td>0</td>\n",
       "      <td>6</td>\n",
       "    </tr>\n",
       "    <tr>\n",
       "      <th>Sir</th>\n",
       "      <td>0</td>\n",
       "      <td>1</td>\n",
       "    </tr>\n",
       "  </tbody>\n",
       "</table>\n",
       "</div>"
      ],
      "text/plain": [
       "Sex       female  male\n",
       "Title                 \n",
       "Capt           0     1\n",
       "Col            0     2\n",
       "Countess       1     0\n",
       "Don            0     1\n",
       "Dr             1     6\n",
       "Jonkheer       0     1\n",
       "Lady           1     0\n",
       "Major          0     2\n",
       "Master         0    40\n",
       "Miss         182     0\n",
       "Mlle           2     0\n",
       "Mme            1     0\n",
       "Mr             0   517\n",
       "Mrs          125     0\n",
       "Ms             1     0\n",
       "Rev            0     6\n",
       "Sir            0     1"
      ]
     },
     "execution_count": 65,
     "metadata": {},
     "output_type": "execute_result"
    }
   ],
   "source": [
    "# Extract titles using regex\n",
    "df['Title'] = df.Name.str.extract(' ([A-Za-z]+)\\.', expand=False)\n",
    "pd.crosstab(df['Title'], df['Sex'])"
   ]
  },
  {
   "cell_type": "code",
   "execution_count": 66,
   "metadata": {
    "execution": {
     "iopub.execute_input": "2024-11-25T01:14:41.925030Z",
     "iopub.status.busy": "2024-11-25T01:14:41.924509Z",
     "iopub.status.idle": "2024-11-25T01:14:41.934258Z",
     "shell.execute_reply": "2024-11-25T01:14:41.933462Z",
     "shell.execute_reply.started": "2024-11-25T01:14:41.924992Z"
    },
    "trusted": true
   },
   "outputs": [
    {
     "name": "stdout",
     "output_type": "stream",
     "text": [
      "Title\n",
      "Mr        517\n",
      "Miss      185\n",
      "Mrs       126\n",
      "Master     40\n",
      "Rare       23\n",
      "Name: count, dtype: int64\n"
     ]
    }
   ],
   "source": [
    "# Normalize titles\n",
    "df['Title'] = df['Title'].replace(['Lady', 'Countess','Capt', 'Col','Don',\n",
    "                                   'Dr', 'Major', 'Rev', 'Sir', 'Jonkheer', 'Dona'], 'Rare')\n",
    "\n",
    "df['Title'] = df['Title'].replace('Mlle', 'Miss')\n",
    "df['Title'] = df['Title'].replace('Ms', 'Miss')\n",
    "df['Title'] = df['Title'].replace('Mme', 'Mrs')\n",
    "\n",
    "print(df['Title'].value_counts())"
   ]
  },
  {
   "cell_type": "code",
   "execution_count": 67,
   "metadata": {
    "execution": {
     "iopub.execute_input": "2024-11-25T01:14:41.935691Z",
     "iopub.status.busy": "2024-11-25T01:14:41.935322Z",
     "iopub.status.idle": "2024-11-25T01:14:41.950128Z",
     "shell.execute_reply": "2024-11-25T01:14:41.949208Z",
     "shell.execute_reply.started": "2024-11-25T01:14:41.935666Z"
    },
    "trusted": true
   },
   "outputs": [
    {
     "name": "stdout",
     "output_type": "stream",
     "text": [
      "   PassengerId  Survived  Pclass  \\\n",
      "0            1         0       3   \n",
      "1            2         1       1   \n",
      "2            3         1       3   \n",
      "3            4         1       1   \n",
      "4            5         0       3   \n",
      "\n",
      "                                                Name     Sex   Age  SibSp  \\\n",
      "0                            Braund, Mr. Owen Harris    male  22.0      1   \n",
      "1  Cumings, Mrs. John Bradley (Florence Briggs Th...  female  38.0      1   \n",
      "2                             Heikkinen, Miss. Laina  female  26.0      0   \n",
      "3       Futrelle, Mrs. Jacques Heath (Lily May Peel)  female  35.0      1   \n",
      "4                           Allen, Mr. William Henry    male  35.0      0   \n",
      "\n",
      "   Parch            Ticket     Fare    Cabin Embarked Title  FamilySize  \\\n",
      "0      0         A/5 21171   7.2500  Unknown        S    Mr           2   \n",
      "1      0          PC 17599  71.2833      C85        C   Mrs           2   \n",
      "2      0  STON/O2. 3101282   7.9250  Unknown        S  Miss           1   \n",
      "3      0            113803  53.1000     C123        S   Mrs           2   \n",
      "4      0            373450   8.0500  Unknown        S    Mr           1   \n",
      "\n",
      "   IsAlone  \n",
      "0        0  \n",
      "1        0  \n",
      "2        1  \n",
      "3        0  \n",
      "4        1  \n"
     ]
    }
   ],
   "source": [
    "# create a new column FamilySize\n",
    "df['FamilySize'] = df['SibSp'] + df['Parch'] + 1\n",
    "\n",
    "# create a new column IsAlone\n",
    "df['IsAlone'] = df['FamilySize'].apply(lambda x: 0 if x > 1 else 1)\n",
    "\n",
    "print(df.head())"
   ]
  },
  {
   "cell_type": "markdown",
   "metadata": {},
   "source": [
    "### 4.2 Feature Encoding"
   ]
  },
  {
   "cell_type": "code",
   "execution_count": 68,
   "metadata": {
    "execution": {
     "iopub.execute_input": "2024-11-25T01:14:41.951354Z",
     "iopub.status.busy": "2024-11-25T01:14:41.951050Z",
     "iopub.status.idle": "2024-11-25T01:14:41.964652Z",
     "shell.execute_reply": "2024-11-25T01:14:41.963765Z",
     "shell.execute_reply.started": "2024-11-25T01:14:41.951307Z"
    },
    "trusted": true
   },
   "outputs": [],
   "source": [
    "# encode the categorical columns\n",
    "categorical_columns = ['Sex', 'Embarked', 'Title']\n",
    "df = pd.get_dummies(df, columns=categorical_columns, drop_first=True)"
   ]
  },
  {
   "cell_type": "markdown",
   "metadata": {},
   "source": [
    "### 4.3 Feature Selection"
   ]
  },
  {
   "cell_type": "code",
   "execution_count": 69,
   "metadata": {
    "execution": {
     "iopub.execute_input": "2024-11-25T01:14:41.966303Z",
     "iopub.status.busy": "2024-11-25T01:14:41.965790Z",
     "iopub.status.idle": "2024-11-25T01:14:41.976582Z",
     "shell.execute_reply": "2024-11-25T01:14:41.975662Z",
     "shell.execute_reply.started": "2024-11-25T01:14:41.966265Z"
    },
    "trusted": true
   },
   "outputs": [
    {
     "name": "stdout",
     "output_type": "stream",
     "text": [
      "   Survived  Pclass   Age  SibSp  Parch     Fare  FamilySize  IsAlone  \\\n",
      "0         0       3  22.0      1      0   7.2500           2        0   \n",
      "1         1       1  38.0      1      0  71.2833           2        0   \n",
      "2         1       3  26.0      0      0   7.9250           1        1   \n",
      "3         1       1  35.0      1      0  53.1000           2        0   \n",
      "4         0       3  35.0      0      0   8.0500           1        1   \n",
      "\n",
      "   Sex_male  Embarked_Q  Embarked_S  Title_Miss  Title_Mr  Title_Mrs  \\\n",
      "0      True       False        True       False      True      False   \n",
      "1     False       False       False       False     False       True   \n",
      "2     False       False        True        True     False      False   \n",
      "3     False       False        True       False     False       True   \n",
      "4      True       False        True       False      True      False   \n",
      "\n",
      "   Title_Rare  \n",
      "0       False  \n",
      "1       False  \n",
      "2       False  \n",
      "3       False  \n",
      "4       False  \n"
     ]
    }
   ],
   "source": [
    "# drop the Name, Ticket, and PassengerId columns \n",
    "df = df.drop(['Name', 'Ticket', 'PassengerId', 'Cabin'], axis=1)\n",
    "\n",
    "print(df.head())"
   ]
  },
  {
   "cell_type": "markdown",
   "metadata": {},
   "source": [
    "### 4.4 Feature Normalization"
   ]
  },
  {
   "cell_type": "markdown",
   "metadata": {},
   "source": [
    "- Tree-based models aren't dependent on feature distribution or scale, but log transforms or scaling can reduce outlier impact, improve interpretability, and ensure consistency with other models."
   ]
  },
  {
   "cell_type": "code",
   "execution_count": 70,
   "metadata": {
    "execution": {
     "iopub.execute_input": "2024-11-25T01:14:41.977910Z",
     "iopub.status.busy": "2024-11-25T01:14:41.977589Z",
     "iopub.status.idle": "2024-11-25T01:14:41.988144Z",
     "shell.execute_reply": "2024-11-25T01:14:41.987402Z",
     "shell.execute_reply.started": "2024-11-25T01:14:41.977874Z"
    },
    "trusted": true
   },
   "outputs": [
    {
     "name": "stdout",
     "output_type": "stream",
     "text": [
      "0.4284359529159576\n",
      "4.787316519674893\n"
     ]
    }
   ],
   "source": [
    "# check skewness of age and fare\n",
    "print(df['Age'].skew())\n",
    "print(df['Fare'].skew())"
   ]
  },
  {
   "cell_type": "code",
   "execution_count": 71,
   "metadata": {
    "execution": {
     "iopub.execute_input": "2024-11-25T01:14:41.991140Z",
     "iopub.status.busy": "2024-11-25T01:14:41.990921Z",
     "iopub.status.idle": "2024-11-25T01:14:42.004837Z",
     "shell.execute_reply": "2024-11-25T01:14:42.004006Z",
     "shell.execute_reply.started": "2024-11-25T01:14:41.991119Z"
    },
    "trusted": true
   },
   "outputs": [
    {
     "name": "stdout",
     "output_type": "stream",
     "text": [
      "   Survived  Pclass       Age  SibSp  Parch      Fare  FamilySize  IsAlone  \\\n",
      "0         0       3 -0.575760      1      0 -0.879741           2        0   \n",
      "1         1       1  0.611215      1      0  1.361220           2        0   \n",
      "2         1       3 -0.279017      0      0 -0.798540           1        1   \n",
      "3         1       1  0.388657      1      0  1.062038           2        0   \n",
      "4         0       3  0.388657      0      0 -0.784179           1        1   \n",
      "\n",
      "   Sex_male  Embarked_Q  Embarked_S  Title_Miss  Title_Mr  Title_Mrs  \\\n",
      "0      True       False        True       False      True      False   \n",
      "1     False       False       False       False     False       True   \n",
      "2     False       False        True        True     False      False   \n",
      "3     False       False        True       False     False       True   \n",
      "4      True       False        True       False      True      False   \n",
      "\n",
      "   Title_Rare  \n",
      "0       False  \n",
      "1       False  \n",
      "2       False  \n",
      "3       False  \n",
      "4       False  \n"
     ]
    }
   ],
   "source": [
    "import numpy as np\n",
    "\n",
    "# log transform the Fare column\n",
    "df['Fare'] = df['Fare'].apply(lambda x: np.log1p(x))\n",
    "\n",
    "# scale the Age and Fare columns\n",
    "from sklearn.preprocessing import StandardScaler\n",
    "\n",
    "scaler = StandardScaler()\n",
    "df[['Age', 'Fare']] = scaler.fit_transform(df[['Age', 'Fare']])\n",
    "print(df.head())"
   ]
  },
  {
   "cell_type": "markdown",
   "metadata": {},
   "source": [
    "### Further exploration\n",
    "- Interpretation-driven feature engineering could lead to the creation of features such as `AgeBand` and `FareBand`, based on reasonable assumptions.\n",
    "- Combine existing features to create meaningful new ones, e.g., `Age * Class`, to catch non-linear relationships.\n",
    "- Keep original features(like sibsp and parch) along with newly created ones(like family size) for now, allowing the model to select the most relevant features.\n",
    "- `Ticket` may also contain some information after complex processing."
   ]
  },
  {
   "cell_type": "markdown",
   "metadata": {},
   "source": [
    "## 5. Data Splitting"
   ]
  },
  {
   "cell_type": "code",
   "execution_count": 72,
   "metadata": {
    "execution": {
     "iopub.execute_input": "2024-11-25T01:14:42.006026Z",
     "iopub.status.busy": "2024-11-25T01:14:42.005789Z",
     "iopub.status.idle": "2024-11-25T01:14:42.013436Z",
     "shell.execute_reply": "2024-11-25T01:14:42.012611Z",
     "shell.execute_reply.started": "2024-11-25T01:14:42.006002Z"
    },
    "trusted": true
   },
   "outputs": [],
   "source": [
    "from sklearn.model_selection import train_test_split\n",
    "\n",
    "# split the data into features and target\n",
    "X = df.drop('Survived', axis=1)\n",
    "y = df['Survived']\n",
    "\n",
    "# split the data into training and testing sets\n",
    "X_train, X_val, y_train, y_val = train_test_split(X, y, test_size=0.2, random_state=42)"
   ]
  },
  {
   "cell_type": "markdown",
   "metadata": {},
   "source": [
    "## 6. Logistic Regression\n",
    "- As a base model."
   ]
  },
  {
   "cell_type": "code",
   "execution_count": 73,
   "metadata": {
    "execution": {
     "iopub.execute_input": "2024-11-25T01:14:42.015068Z",
     "iopub.status.busy": "2024-11-25T01:14:42.014509Z",
     "iopub.status.idle": "2024-11-25T01:14:42.061898Z",
     "shell.execute_reply": "2024-11-25T01:14:42.060577Z",
     "shell.execute_reply.started": "2024-11-25T01:14:42.015030Z"
    },
    "trusted": true
   },
   "outputs": [
    {
     "name": "stdout",
     "output_type": "stream",
     "text": [
      "Logistic Regression Accuracy: 82.12%\n"
     ]
    }
   ],
   "source": [
    "from sklearn.linear_model import LogisticRegression\n",
    "from sklearn.metrics import accuracy_score\n",
    "\n",
    "# create the LR model\n",
    "log_reg = LogisticRegression(max_iter=1000)\n",
    "\n",
    "# fit the model\n",
    "log_reg.fit(X_train, y_train)\n",
    "\n",
    "# make predictions\n",
    "y_pred_log_reg = log_reg.predict(X_val)\n",
    "\n",
    "# evaluate the model\n",
    "accuracy_log_reg = accuracy_score(y_val, y_pred_log_reg)\n",
    "print(f'Logistic Regression Accuracy: {accuracy_log_reg * 100:.2f}%')"
   ]
  },
  {
   "cell_type": "markdown",
   "metadata": {},
   "source": [
    "## 7. Random Forest"
   ]
  },
  {
   "cell_type": "code",
   "execution_count": 74,
   "metadata": {
    "execution": {
     "iopub.execute_input": "2024-11-25T01:14:42.065318Z",
     "iopub.status.busy": "2024-11-25T01:14:42.064890Z",
     "iopub.status.idle": "2024-11-25T01:16:33.022478Z",
     "shell.execute_reply": "2024-11-25T01:16:33.021677Z",
     "shell.execute_reply.started": "2024-11-25T01:14:42.065268Z"
    },
    "trusted": true
   },
   "outputs": [
    {
     "name": "stdout",
     "output_type": "stream",
     "text": [
      "Fitting 5 folds for each of 420 candidates, totalling 2100 fits\n",
      "Best parameters: {'max_depth': 10, 'min_samples_leaf': 4, 'min_samples_split': 20, 'n_estimators': 100}\n",
      "Random Forest Accuracy: 82.12%\n"
     ]
    }
   ],
   "source": [
    "from sklearn.ensemble import RandomForestClassifier\n",
    "from sklearn.model_selection import GridSearchCV\n",
    "\n",
    "# define the parameter grid\n",
    "param_grid_rf = {\n",
    "    'n_estimators': [25, 50, 100, 150],\n",
    "    'max_depth': [None, 10, 20],\n",
    "    'min_samples_split': [2, 5, 10, 15, 20, 30, 40],\n",
    "    'min_samples_leaf': [1, 2, 4, 5, 6]\n",
    "}\n",
    "\n",
    "# # use default or selected value for speed\n",
    "# param_grid_rf = {\n",
    "#     'n_estimators': [100],\n",
    "#     'max_depth': [None],\n",
    "#     'min_samples_split': [2],\n",
    "#     'min_samples_leaf': [1]\n",
    "# }\n",
    "\n",
    "# create the grid search\n",
    "grid_search_rf = GridSearchCV(estimator=RandomForestClassifier(random_state=42), param_grid=param_grid_rf, cv=5, n_jobs=-1, verbose=1)\n",
    "\n",
    "# fit the grid search\n",
    "grid_search_rf.fit(X_train, y_train)\n",
    "\n",
    "# get the best parameters\n",
    "best_params_rf = grid_search_rf.best_params_\n",
    "print(f'Best parameters: {best_params_rf}')\n",
    "\n",
    "# create the Random Forest model with the best parameters\n",
    "rf_model = RandomForestClassifier(**best_params_rf, random_state=42)\n",
    "\n",
    "# fit the model\n",
    "rf_model.fit(X_train, y_train)\n",
    "\n",
    "# make predictions\n",
    "y_pred_rf = rf_model.predict(X_val)\n",
    "\n",
    "# evaluate the model\n",
    "accuracy_rf = accuracy_score(y_val, y_pred_rf)\n",
    "print(f'Random Forest Accuracy: {accuracy_rf * 100:.2f}%')"
   ]
  },
  {
   "cell_type": "markdown",
   "metadata": {},
   "source": [
    "## 8. XGBoost"
   ]
  },
  {
   "cell_type": "code",
   "execution_count": 75,
   "metadata": {
    "execution": {
     "iopub.execute_input": "2024-11-25T01:16:33.023703Z",
     "iopub.status.busy": "2024-11-25T01:16:33.023468Z",
     "iopub.status.idle": "2024-11-25T01:16:33.268084Z",
     "shell.execute_reply": "2024-11-25T01:16:33.267491Z",
     "shell.execute_reply.started": "2024-11-25T01:16:33.023679Z"
    },
    "trusted": true
   },
   "outputs": [
    {
     "name": "stdout",
     "output_type": "stream",
     "text": [
      "Fitting 5 folds for each of 1 candidates, totalling 5 fits\n",
      "Best parameters for XGBoost: {'learning_rate': 0.2, 'max_depth': 65, 'n_estimators': 75, 'subsample': 0.5}\n",
      "XGBoost Accuracy: 81.56%\n"
     ]
    }
   ],
   "source": [
    "from sklearn.model_selection import GridSearchCV\n",
    "from xgboost import XGBClassifier\n",
    "\n",
    "# # define the parameter grid for XGBoost\n",
    "# param_grid_xgb = {\n",
    "# \t'n_estimators': [50, 75, 100,150,200],\n",
    "# \t'max_depth': [1, 2, 3, 4, 5, 6, 7],\n",
    "# \t'learning_rate': [0.01, 0.05, 0.1, 0.2, 0.3],\n",
    "# \t'subsample': [0.3, 0.4, 0.5, 0.6, 0.7, 0.8, 0.9, 1.0]\n",
    "# }\n",
    "\n",
    "# use default or selected hyperparameters for speed\n",
    "param_grid_xgb = {\n",
    "\t'n_estimators': [75],\n",
    "\t'max_depth': [65],\n",
    "\t'learning_rate': [0.2],\n",
    "\t'subsample': [0.5]\n",
    "}\n",
    "\n",
    "# create the grid search\n",
    "grid_search_xgb = GridSearchCV(estimator=XGBClassifier(random_state=42), param_grid=param_grid_xgb, cv=5, n_jobs=-1, verbose=1)\n",
    "\n",
    "# fit the grid search\n",
    "grid_search_xgb.fit(X_train, y_train)\n",
    "\n",
    "# get the best parameters\n",
    "best_params_xgb = grid_search_xgb.best_params_\n",
    "print(f'Best parameters for XGBoost: {best_params_xgb}')\n",
    "\n",
    "# create the XGB model with the best parameters\n",
    "model_XGB = XGBClassifier(**best_params_xgb, random_state=42)\n",
    "\n",
    "# fit the model\n",
    "model_XGB.fit(X_train, y_train)\n",
    "\n",
    "# make predictions\n",
    "y_pred_xgb = model_XGB.predict(X_val)\n",
    "\n",
    "# evaluate the model\n",
    "accuracy_xgb = accuracy_score(y_val, y_pred_xgb)\n",
    "print(f'XGBoost Accuracy: {accuracy_xgb * 100:.2f}%')"
   ]
  },
  {
   "cell_type": "code",
   "execution_count": 76,
   "metadata": {
    "execution": {
     "iopub.execute_input": "2024-11-25T01:16:33.269158Z",
     "iopub.status.busy": "2024-11-25T01:16:33.268903Z",
     "iopub.status.idle": "2024-11-25T01:16:33.534879Z",
     "shell.execute_reply": "2024-11-25T01:16:33.534100Z",
     "shell.execute_reply.started": "2024-11-25T01:16:33.269129Z"
    },
    "trusted": true
   },
   "outputs": [
    {
     "data": {
      "image/png": "[encoded data removed]",
      "text/plain": [
       "<Figure size 1200x600 with 1 Axes>"
      ]
     },
     "metadata": {},
     "output_type": "display_data"
    }
   ],
   "source": [
    "# check the feature importance\n",
    "feature_importance = model_XGB.feature_importances_ * 100\n",
    "\n",
    "sorted_idx = np.argsort(feature_importance)\n",
    "pos = np.arange(sorted_idx.shape[0]) + .5\n",
    "\n",
    "plt.figure(figsize=(12, 6))\n",
    "plt.barh(pos, feature_importance[sorted_idx], align='center')\n",
    "plt.yticks(pos, X.columns[sorted_idx])\n",
    "plt.xlabel('Relative Importance')\n",
    "plt.title('Variable Importance')\n",
    "plt.show()"
   ]
  },
  {
   "cell_type": "markdown",
   "metadata": {},
   "source": [
    "## 9. Make prediction"
   ]
  },
  {
   "cell_type": "markdown",
   "metadata": {},
   "source": [
    "### 9.1 Processing test set"
   ]
  },
  {
   "cell_type": "code",
   "execution_count": 77,
   "metadata": {
    "execution": {
     "iopub.execute_input": "2024-11-25T01:16:33.536721Z",
     "iopub.status.busy": "2024-11-25T01:16:33.536353Z",
     "iopub.status.idle": "2024-11-25T01:16:33.570375Z",
     "shell.execute_reply": "2024-11-25T01:16:33.569635Z",
     "shell.execute_reply.started": "2024-11-25T01:16:33.536682Z"
    },
    "trusted": true
   },
   "outputs": [
    {
     "name": "stdout",
     "output_type": "stream",
     "text": [
      "Title\n",
      "Mr        240\n",
      "Miss       79\n",
      "Mrs        72\n",
      "Master     21\n",
      "Rare        6\n",
      "Name: count, dtype: int64\n",
      "   Pclass       Age  SibSp  Parch      Fare  FamilySize  IsAlone  Sex_male  \\\n",
      "0       3  0.351564      0      0 -0.809683           1        1      True   \n",
      "1       3  1.278888      1      0 -0.911513           2        0     False   \n",
      "2       2  2.391677      0      0 -0.612461           1        1      True   \n",
      "3       3 -0.204831      0      0 -0.716562           1        1      True   \n",
      "4       3 -0.575760      1      1 -0.387631           3        0     False   \n",
      "\n",
      "   Embarked_Q  Embarked_S  Title_Miss  Title_Mr  Title_Mrs  Title_Rare  \n",
      "0        True       False       False      True      False       False  \n",
      "1       False        True       False     False       True       False  \n",
      "2        True       False       False      True      False       False  \n",
      "3       False        True       False      True      False       False  \n",
      "4       False        True       False     False       True       False  \n"
     ]
    }
   ],
   "source": [
    "# read test data\n",
    "# df_test = pd.read_csv('titanic/test.csv')\n",
    "# #on kaggle\n",
    "df_test = pd.read_csv('/kaggle/input/titanic/test.csv')\n",
    "\n",
    "df_test['Age'] = df_test['Age'].fillna(\n",
    "    df_test.groupby(['Pclass', 'Sex', 'SibSp', 'Parch', 'Fare'])['Age'].transform('mean')\n",
    ")\n",
    "df_test['Age'] = df_test['Age'].fillna(\n",
    "    df_test.groupby(['Pclass', 'Sex'])['Age'].transform('mean')\n",
    ")\n",
    "global_mean_age_test = df_test['Age'].mean()\n",
    "df_test['Age'] = df_test['Age'].fillna(global_mean_age_test)\n",
    "\n",
    "# Extract and normalize titles\n",
    "df_test['Title'] = df_test.Name.str.extract(' ([A-Za-z]+)\\.', expand=False)\n",
    "\n",
    "df_test['Title'] = df_test['Title'].replace(['Lady', 'Countess','Capt', 'Col', 'Don', \n",
    "                                   'Dr', 'Major', 'Rev', 'Sir', 'Jonkheer', 'Dona'], 'Rare')\n",
    "df_test['Title'] = df_test['Title'].replace('Mlle', 'Miss')\n",
    "df_test['Title'] = df_test['Title'].replace('Ms', 'Miss')\n",
    "df_test['Title'] = df_test['Title'].replace('Mme', 'Mrs')\n",
    "\n",
    "print(df_test['Title'].value_counts())\n",
    "\n",
    "# Fill missing values in the test set\n",
    "df_test['Fare'] = df_test['Fare'].fillna(df_test['Fare'].mean())\n",
    "df_test['Embarked'] = df_test['Embarked'].fillna(df_test['Embarked'].mode()[0])\n",
    "df_test['Cabin'] = df_test['Cabin'].fillna('Unknown')\n",
    "\n",
    "# Create new features in the test set\n",
    "df_test['FamilySize'] = df_test['SibSp'] + df_test['Parch'] + 1\n",
    "df_test['IsAlone'] = df_test['FamilySize'].apply(lambda x: 0 if x > 1 else 1)\n",
    "\n",
    "# Encode categorical features in the test set\n",
    "df_test = pd.get_dummies(df_test, columns=['Sex', 'Embarked', 'Title'], drop_first=True)\n",
    "\n",
    "# Drop unnecessary columns in the test set\n",
    "df_test = df_test.drop(['Name', 'Ticket', 'PassengerId', 'Cabin'], axis=1)\n",
    "\n",
    "# Log transform the Fare column in the test set\n",
    "df_test['Fare'] = df_test['Fare'].apply(lambda x: np.log1p(x))\n",
    "\n",
    "# Scale the Age and Fare columns in the test set\n",
    "df_test[['Age', 'Fare']] = scaler.transform(df_test[['Age', 'Fare']])\n",
    "\n",
    "print(df_test.head())"
   ]
  },
  {
   "cell_type": "markdown",
   "metadata": {},
   "source": [
    "### 9.2 Retrain the model using XGBoost and make prediction"
   ]
  },
  {
   "cell_type": "code",
   "execution_count": 78,
   "metadata": {
    "execution": {
     "iopub.execute_input": "2024-11-25T01:16:33.572714Z",
     "iopub.status.busy": "2024-11-25T01:16:33.572056Z",
     "iopub.status.idle": "2024-11-25T01:16:33.641844Z",
     "shell.execute_reply": "2024-11-25T01:16:33.641220Z",
     "shell.execute_reply.started": "2024-11-25T01:16:33.572674Z"
    },
    "trusted": true
   },
   "outputs": [
    {
     "name": "stdout",
     "output_type": "stream",
     "text": [
      "Output generated at: 2024-11-25 01:16:33.\n"
     ]
    }
   ],
   "source": [
    "# retrain the model on the entire training set using xgboost\n",
    "model_XGB.fit(X, y)\n",
    "\n",
    "# make predictions on the test set\n",
    "predictions = model_XGB.predict(df_test)\n",
    "\n",
    "# create a submission file\n",
    "submission = pd.DataFrame({'PassengerId': pd.read_csv('/kaggle/input/titanic/test.csv')['PassengerId'], 'Survived': predictions})\n",
    "\n",
    "# save the submission file\n",
    "submission.to_csv('submission.csv', index=False)\n",
    "\n",
    "# print output message with time\n",
    "import datetime\n",
    "current_time = datetime.datetime.now().strftime('%Y-%m-%d %H:%M:%S')\n",
    "print(f'Output generated at: {current_time}.')"
   ]
  }
 ],
 "metadata": {
  "kaggle": {
   "accelerator": "gpu",
   "dataSources": [
    {
     "databundleVersionId": 26502,
     "sourceId": 3136,
     "sourceType": "competition"
    }
   ],
   "isGpuEnabled": true,
   "isInternetEnabled": true,
   "language": "python",
   "sourceType": "notebook"
  },
  "kernelspec": {
   "display_name": "Python 3",
   "language": "python",
   "name": "python3"
  },
  "language_info": {
   "codemirror_mode": {
    "name": "ipython",
    "version": 3
   },
   "file_extension": ".py",
   "mimetype": "text/x-python",
   "name": "python",
   "nbconvert_exporter": "python",
   "pygments_lexer": "ipython3",
   "version": "3.10.14"
  }
 },
 "nbformat": 4,
 "nbformat_minor": 4
}
